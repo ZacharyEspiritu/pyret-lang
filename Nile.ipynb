{
 "cells": [
  {
   "cell_type": "markdown",
   "metadata": {},
   "source": [
    "# Nile \n",
    "\n",
    "We can put any text we want here!"
   ]
  },
  {
   "cell_type": "markdown",
   "metadata": {},
   "source": [
    "### Support Code"
   ]
  },
  {
   "cell_type": "code",
   "execution_count": null,
   "metadata": {},
   "outputs": [
    {
     "name": "stderr",
     "output_type": "stream",
     "text": [
      "FailureResult([object Object])"
     ]
    }
   ],
   "source": [
    "data File:\n",
    "  | file(name :: String, content :: String)\n",
    "end\n",
    "\n",
    "data Recommendation:\n",
    "  | recommendation(count :: Number, names :: List<String>)\n",
    "end"
   ]
  },
  {
   "cell_type": "markdown",
   "metadata": {},
   "source": [
    "### Import Statements"
   ]
  },
  {
   "cell_type": "code",
   "execution_count": 2,
   "metadata": {},
   "outputs": [
    {
     "data": {
      "text/plain": [
       "\"<Unknown value: details logged to console>\""
      ]
     },
     "execution_count": 2,
     "metadata": {},
     "output_type": "execute_result"
    }
   ],
   "source": [
    "import lists as L"
   ]
  },
  {
   "cell_type": "markdown",
   "metadata": {},
   "source": [
    "### Data Definitions"
   ]
  },
  {
   "cell_type": "code",
   "execution_count": 3,
   "metadata": {},
   "outputs": [
    {
     "data": {
      "text/plain": [
       "\"<Unknown value: details logged to console>\""
      ]
     },
     "execution_count": 3,
     "metadata": {},
     "output_type": "execute_result"
    }
   ],
   "source": [
    "data Pair:\n",
    "  | pair(title1 :: String, title2 :: String)\n",
    "end"
   ]
  },
  {
   "cell_type": "markdown",
   "metadata": {},
   "source": [
    "# Implementation"
   ]
  },
  {
   "cell_type": "code",
   "execution_count": 4,
   "metadata": {},
   "outputs": [
    {
     "data": {
      "text/plain": [
       "\"<Unknown value: details logged to console>\""
      ]
     },
     "execution_count": 4,
     "metadata": {},
     "output_type": "execute_result"
    }
   ],
   "source": [
    "fun recommend(title :: String, book-records :: List<File>) \n",
    "  -> Recommendation:\n",
    "  doc: ```Takes in the title of a book and a list of files,\n",
    "       and returns a recommendation of book(s) to be paired with title\n",
    "       based on the files in book-records.```\n",
    "\n",
    "  fun list-contains-title(lst :: List<String>) -> Boolean:\n",
    "    doc: ```returns true if the given List<String> lst contains the given\n",
    "         String title; otherwise, returns false```\n",
    "    list-contains(lst, title)\n",
    "  end\n",
    "\n",
    "  fun is-not-title(next-title :: String) -> Boolean:\n",
    "    doc: ```returns false if the given String next-title is the same as\n",
    "         the given String title; otherwise, returns true```\n",
    "    not(next-title == title)\n",
    "  end\n",
    "\n",
    "  # 1. Convert List<File> to nested List<String> of titles in each File\n",
    "  parsed-book-records = L.map(parse-book-records, book-records)\n",
    "  \n",
    "  # 2. Filter only List<String>s that contain the given String title\n",
    "  lists-with-title = L.filter(list-contains-title, parsed-book-records)\n",
    "  \n",
    "  # 3. Flatten List<String> lists-with-title, since we know that for each\n",
    "  #    occurence of an item in lists-with-title, it was paired with the\n",
    "  #    given String title or is the String title itself\n",
    "  bag-of-titles = list-flatten(lists-with-title)\n",
    "\n",
    "  # 4. Remove instances of the given String title from bag-of-titles\n",
    "  filtered-bag = L.filter(is-not-title, bag-of-titles)\n",
    "\n",
    "  # 5. Generate recommendation for elements that appear the most in\n",
    "  #    filtered-bag\n",
    "  generate-recommendations(filtered-bag)\n",
    "end\n",
    "\n",
    "fun generate-recommendations(bag-of-titles :: List<String>) \n",
    "  -> Recommendation:\n",
    "  doc: ```generates a Recommendation from the given List<String> \n",
    "       bag-of-titles, where all of the elements with the highest number of\n",
    "       appearances in the bag-of-titles are placed in the List<String> \n",
    "       names field the Recommendation and the number of times those books  \n",
    "       each appear in the Number count field of the Recommendation```\n",
    "\n",
    "  fun find-most-frequent-titles(\n",
    "      bag-count :: List<Number>, \n",
    "      current-high-count :: Number, \n",
    "      current-list :: List<String>, \n",
    "      current-index :: Number) -> Recommendation:\n",
    "    doc: ```finds the most frequently appearing titles in the List<String>\n",
    "         bag-of-titles and uses them to create a Recommendation```\n",
    "    cases (List) bag-count:\n",
    "      | empty => \n",
    "        recommendation(current-high-count, list-reverse(current-list))\n",
    "      | link(f, r) =>\n",
    "        if f > current-high-count:\n",
    "          find-most-frequent-titles(\n",
    "            r, \n",
    "            f, \n",
    "            [list: list-get(bag-of-titles, current-index)], \n",
    "            current-index + 1\n",
    "          )\n",
    "        else if f == current-high-count:\n",
    "          find-most-frequent-titles(\n",
    "            r, \n",
    "            current-high-count, \n",
    "            link(list-get(bag-of-titles, current-index), current-list), \n",
    "            current-index + 1\n",
    "          )\n",
    "        else:\n",
    "          find-most-frequent-titles(\n",
    "            r, \n",
    "            current-high-count, \n",
    "            current-list, \n",
    "            current-index + 1\n",
    "          )\n",
    "        end\n",
    "    end\n",
    "  end\n",
    "\n",
    "  bag-count = vectorize-list(bag-of-titles, list-distinct(bag-of-titles))\n",
    "  find-most-frequent-titles(bag-count, 0, empty, 0)\n",
    "end\n",
    "\n",
    "fun vectorize-list(lst :: List<String>, bag-of-words :: List<String>) \n",
    "  -> List<Number>:\n",
    "  doc: ```converts the given List<String> lst to a vector represented by\n",
    "       a List<Number>, where each element in the vector corresponds to the\n",
    "       element at the same index in the given List<String> bag-of-words```\n",
    "  cases (List) bag-of-words:\n",
    "    | empty => empty\n",
    "    | link(f, r) =>\n",
    "      link(list-count-instances(lst, f), vectorize-list(lst, r))\n",
    "  end\n",
    "end\n",
    "\n",
    "fun popular-pairs(records :: List<File>) -> Recommendation:\n",
    "  doc: ```Takes in a list of files and returns a recommendation of\n",
    "       the most popular pair(s) of books in records.```\n",
    "  \n",
    "  # 1. Convert List<File> to nested List<String> of titles in each File\n",
    "  parsed-titles = L.map(parse-book-records, records)\n",
    "  \n",
    "  # 2. Create all possible Pairs with each List<String>\n",
    "  parsed-pairs = L.map(make-pairs-from-titles, parsed-titles)\n",
    "  \n",
    "  # 3. Flatten the nested List<Pair>, so it's easier to parse\n",
    "  pairs = list-flatten(parsed-pairs)\n",
    "  \n",
    "  # 4. Find most frequently appearing Pairs in the List<Pair> pairs\n",
    "  find-recommended-pairs(pairs, 0, empty)\n",
    "end\n",
    "# popular-pairs tests at the bottom of the file\n",
    "\n",
    "fun find-recommended-pairs(\n",
    "    list-of-pairs :: List<Pair>, \n",
    "    highest-instances :: Number, \n",
    "    highest-pairs :: List<Pair>) -> Recommendation:\n",
    "  doc: ```consumes a List<Pair> list-of-pairs and returns a \n",
    "       Recommendation containing the titles of the Pairs that \n",
    "       appear the most in the list-of-pairs and the number of\n",
    "       times that they appear```\n",
    "\n",
    "  fun list-pair-remove(lst :: List<Pair>, p :: Pair) -> List<Pair>:\n",
    "    doc: ```removes duplicate Pairs from the given List<Pair> lst, \n",
    "         where a duplicate is defined as two Pairs that have the \n",
    "         same titles in any order```\n",
    "    cases (List) lst:\n",
    "      | empty => empty\n",
    "      | link(f, r) =>\n",
    "        if pairs-match(f, p):\n",
    "          list-pair-remove(r, p)\n",
    "        else:\n",
    "          link(f, list-pair-remove(r, p))\n",
    "        end\n",
    "    end\n",
    "  end\n",
    "\n",
    "  fun list-pair-count(lst :: List<Pair>, p :: Pair) -> Number:\n",
    "    doc: ```counts the number of Pairs in the List<Pair> lst that \n",
    "         are dupicates of the given Pair p, where a duplicate is\n",
    "         defined as two Pairs that have the same titles in any order```\n",
    "    cases (List) lst:\n",
    "      | empty => 0\n",
    "      | link(f, r) =>\n",
    "        if pairs-match(f, p):\n",
    "          1 + list-pair-count(r, p)\n",
    "        else:\n",
    "          list-pair-count(r, p)\n",
    "        end\n",
    "    end\n",
    "  end\n",
    "\n",
    "  cases (List) list-of-pairs:\n",
    "    | empty => \n",
    "      recommendation-titles = L.map(concat-pair-titles, highest-pairs)\n",
    "      recommendation(highest-instances, recommendation-titles)\n",
    "    | link(f, r) =>\n",
    "      pair-instances = list-pair-count(list-of-pairs, f)\n",
    "      next-list      = list-pair-remove(list-of-pairs, f)\n",
    "\n",
    "      if pair-instances > highest-instances:\n",
    "        find-recommended-pairs(next-list, pair-instances, [list: f])\n",
    "      else if pair-instances == highest-instances:\n",
    "        new-highest-pairs = link(f, highest-pairs)\n",
    "        \n",
    "        find-recommended-pairs(\n",
    "          next-list, \n",
    "          highest-instances, \n",
    "          new-highest-pairs\n",
    "        )\n",
    "      else:\n",
    "        find-recommended-pairs(next-list, highest-instances, highest-pairs)\n",
    "      end\n",
    "  end\n",
    "end\n",
    "\n",
    "fun concat-pair-titles(p :: Pair) -> String:\n",
    "  doc: ```consumes the given Pair p and returns a String comprised of \n",
    "       the title1 and title2 field of p, separated by a plus sign ```\n",
    "  p.title1 + \"+\" + p.title2\n",
    "end\n",
    "\n",
    "fun pairs-match(pair1 :: Pair, pair2 :: Pair) -> Boolean:\n",
    "  doc: ```returns true if the two given Pairs have the same titles in any\n",
    "           order; otherwise, returns false```\n",
    "  ((pair1.title1 == pair2.title1) and (pair1.title2 == pair2.title2)) or\n",
    "  ((pair1.title2 == pair2.title1) and (pair1.title1 == pair2.title2))\n",
    "end\n",
    "\n",
    "fun make-pairs-from-titles(list-of-titles :: List<String>) -> List<Pair>:\n",
    "  doc: ```consumes a List<String> list-of-titles and returns a List<Pair>\n",
    "       of every possible Pair in list-of-titles excluding duplicates\n",
    "       (where two Pairs are considered duplicates if they share the\n",
    "       same titles, regardless of order)```\n",
    "  \n",
    "  fun pair-title-with-others(\n",
    "      title :: String, \n",
    "      other-titles :: List<String>) -> List<Pair>:\n",
    "    doc: ```returns a List<Pair> of all possible Pairs between the \n",
    "         given String title and all Strings in the List<String> \n",
    "         other-titles```\n",
    "    cases (List) other-titles:\n",
    "      | empty => empty\n",
    "      | link(f, r) => \n",
    "        link(pair(title, f), pair-title-with-others(title, r))\n",
    "    end\n",
    "  end\n",
    "\n",
    "  fun pair-up-titles(titles :: List<String>):\n",
    "    doc: ```creates all possible Pairs excluding duplicates for the \n",
    "         given List<String> titles```\n",
    "    cases (List) list-of-titles:\n",
    "      | empty => empty\n",
    "      | link(f, r) => \n",
    "        new-pairs = pair-title-with-others(f, r)\n",
    "        next-pairs = make-pairs-from-titles(r)\n",
    "        link(new-pairs, next-pairs)\n",
    "    end\n",
    "  end\n",
    "\n",
    "  list-flatten(pair-up-titles(list-of-titles))\n",
    "end\n",
    "\n",
    "fun list-count-instances<T>(lst :: List<T>, element :: T) -> Number:\n",
    "  doc: \"counts the number of times element is in the List list-of-any\"\n",
    "  cases (List) lst:\n",
    "    | empty => 0\n",
    "    | link(f, r) =>\n",
    "      if f == element:\n",
    "        1 + list-count-instances(r, element)\n",
    "      else:\n",
    "        list-count-instances(r, element)\n",
    "      end\n",
    "  end\n",
    "where:\n",
    "  list-count-instances(empty, 1) is 0\n",
    "  list-count-instances([list: 1], 1) is 1\n",
    "  list-count-instances([list: 2], 1) is 0\n",
    "  list-count-instances([list: 1, 1, 1], 1) is 3\n",
    "  list-count-instances([list: 2, 3, 4], 1) is 0\n",
    "  list-count-instances([list: 1, 2, 3, 2, 1], 2) is 2\n",
    "end\n",
    "\n",
    "fun list-length<T>(lst :: List<T>) -> Number:\n",
    "  doc: \"gets the number of elements in the List<T> lst\"\n",
    "  L.fold(lam(acc, elm): acc + 1 end, 0, lst)\n",
    "where:\n",
    "  list-length(empty) is 0\n",
    "  list-length([list: 1]) is 1\n",
    "  list-length([list: 2]) is 1\n",
    "  list-length([list: 1, 1, 1]) is 3\n",
    "  list-length([list: 2, 3, 4]) is 3\n",
    "  list-length([list: 1, 2, 3, 2, 1]) is 5\n",
    "end\n",
    "\n",
    "fun list-get<T>(lst :: List<T>, index :: Number) -> T:\n",
    "  doc: \"gets the element in the List lst at the zero-based Number index\"\n",
    "  cases (List) lst:\n",
    "    | empty => empty\n",
    "    | link(f, r) =>\n",
    "      if index == 0:\n",
    "        f\n",
    "      else:\n",
    "        list-get(r, index - 1)\n",
    "      end\n",
    "  end\n",
    "where:\n",
    "  list-get([list: 1, 2, 3, 4], 0) is 1\n",
    "  list-get([list: 1, 2, 3, 4], 1) is 2\n",
    "  list-get([list: 1, 2, 3, 4], 2) is 3\n",
    "  list-get([list: 1, 2, 3, 4], 3) is 4\n",
    "end\n",
    "\n",
    "fun list-distinct<T>(lst :: List<T>) -> List<T>:\n",
    "  doc: ```consumes a List list and outputs a List of the same values, \n",
    "       in the same order, with duplicate values removed after their \n",
    "       first occurrence in the list```\n",
    "\n",
    "  fun link-if-distinct(old-list :: List, element :: Any) -> List:\n",
    "    doc: ```links the given Any element to the List old-list if it\n",
    "         isn't already present in the old-list```\n",
    "\n",
    "    if list-contains(old-list, element):\n",
    "      old-list\n",
    "    else:\n",
    "      link(element, old-list)\n",
    "    end\n",
    "  end\n",
    "\n",
    "  list-reverse(L.foldl(link-if-distinct, empty, lst))\n",
    "where:\n",
    "  list-distinct(empty) is empty\n",
    "  list-distinct([list: 1]) is [list: 1]\n",
    "  list-distinct([list: 1, 1]) is [list: 1]\n",
    "  list-distinct([list: 1, 2]) is [list: 1, 2]\n",
    "  list-distinct([list: 1, 2, 3]) is [list: 1, 2, 3]\n",
    "  list-distinct([list: 1, 2, 3, 2, 1, 4]) is [list: 1, 2, 3, 4]\n",
    "end\n",
    "\n",
    "fun list-reverse<T>(lst :: List<T>) -> List<T>:\n",
    "  doc: \"returns the given List lst with the elements in reverse order\"\n",
    "  L.foldl((lam(acc, elm): link(elm, acc) end), empty, lst)\n",
    "where:\n",
    "  list-reverse(empty) is empty\n",
    "  list-reverse([list: 1]) is [list: 1]\n",
    "  list-reverse([list: 1, 2]) is [list: 2, 1]\n",
    "  list-reverse([list: 1, 2, 3]) is [list: 3, 2, 1]\n",
    "  list-reverse([list: 1, 2, 3, 4, 5]) is [list: 5, 4, 3, 2, 1]\n",
    "end\n",
    "\n",
    "fun list-contains<T>(lst :: List<T>, element :: T) -> Boolean:\n",
    "  doc: ```returns true if the List lst contains the given element;\n",
    "       otherwise, returns false```\n",
    "  cases (List) lst:\n",
    "    | empty => false\n",
    "    | link(f, r) =>\n",
    "      if f == element:\n",
    "        true\n",
    "      else:\n",
    "        list-contains(r, element)\n",
    "      end\n",
    "  end\n",
    "where:\n",
    "  list-contains(empty, 1) is false\n",
    "  list-contains([list: 1], 1) is true\n",
    "  list-contains([list: 1], 2) is false\n",
    "  list-contains([list: 1, 1, 1], 1) is true\n",
    "  list-contains([list: 2, 2, 2], 1) is false\n",
    "  list-contains([list: 1, 2, 3], 3) is true\n",
    "  list-contains([list: 1, 2, 3], 4) is false\n",
    "end\n",
    "\n",
    "fun list-flatten<T>(nested-list :: List<T>) -> List<T>:\n",
    "  doc: ```flattens the given List nested-list so that all elements \n",
    "       within any nested lists (or not) in nested-list are returned\n",
    "       in a single List that doesn't contain any nested lists```\n",
    "  \n",
    "  fun combine-lists(old-list :: List, new-elms :: Any) -> List:\n",
    "    doc: \"combines the two given Lists or Any element into a single list\"\n",
    "\n",
    "    if is-link(new-elms):\n",
    "      old-list.foldr(link, new-elms)\n",
    "    else if is-empty(new-elms):\n",
    "      old-list\n",
    "    else:\n",
    "      link(new-elms, old-list)\n",
    "    end\n",
    "  end\n",
    "\n",
    "  L.foldl(combine-lists, empty, nested-list)\n",
    "where:\n",
    "  list-flatten(empty) \n",
    "    is empty\n",
    "  list-flatten([list: 1, [list: 2], [list: 3]]) \n",
    "    is [list: 1, 2, 3]\n",
    "  list-flatten([list: 1, empty, [list: 2], [list: 3], empty]) \n",
    "    is [list: 1, 2, 3]\n",
    "  list-flatten([list: [list: 1], [list: 2], [list: 3]]) \n",
    "    is [list: 1, 2, 3]\n",
    "end\n",
    "\n",
    "# END List library\n",
    "\n",
    "# START parser for Files -> List<String> function definitions:\n",
    "fun parse-book-records(record :: File) -> List<String>:\n",
    "  doc: ```retrieves a parsed set of words as a List<String> from the \n",
    "         given File record's content```\n",
    "  parse-document-words(record.content, \"\\n\")\n",
    "where:\n",
    "  parse-book-records(file(\"a.txt\", \"\")) is [list:]\n",
    "  parse-book-records(file(\"b.txt\", \"test\")) is [list: \"test\"]\n",
    "  parse-book-records(file(\"c.txt\", \"a\\nb\\nc\")) is [list: \"a\", \"b\", \"c\"]\n",
    "  parse-book-records(file(\"d.txt\", \"Do\\ncs\\nfor\\nshriram\")) \n",
    "    is [list: \"Do\", \"cs\", \"for\", \"shriram\"]\n",
    "end\n",
    "\n",
    "fun parse-document-words(\n",
    "    document :: String, \n",
    "    char :: String) -> List<String>:\n",
    "  doc: ```splits the given String document at the given char String of \n",
    "       length one into a List<String>, where each element in the list  \n",
    "       was delimited in the given document by char```\n",
    "\n",
    "  fun parse-first-word-codes-from-code-points(numbers :: List<Number>) \n",
    "    -> List<Number>:\n",
    "    doc: ```retrieves all of the code points for the first word in the \n",
    "         List<Number> numbers, delimited by the code point for char```\n",
    "    cases (List) numbers:\n",
    "      | empty => empty\n",
    "      | link(f, r) =>\n",
    "        if f == string-to-code-point(char):\n",
    "          empty\n",
    "        else:\n",
    "          link(f, parse-first-word-codes-from-code-points(r))\n",
    "        end\n",
    "    end\n",
    "  end\n",
    "\n",
    "  fun remove-first-word-codes-from-code-points(numbers :: List<Number>) \n",
    "    -> List<Number>:\n",
    "    doc: ```removes all of the code points for the first word in the \n",
    "         List<Number> numbers, delimited by the code point for char,\n",
    "         including the first instance of the code point for char```\n",
    "    cases (List) numbers:\n",
    "      | empty => empty\n",
    "      | link(f, r) =>\n",
    "        if f == string-to-code-point(char):\n",
    "          r\n",
    "        else:\n",
    "          remove-first-word-codes-from-code-points(r)\n",
    "        end\n",
    "    end\n",
    "  end\n",
    "\n",
    "  fun parse-codes-to-string-list(codes :: List<Number>) -> List<String>:\n",
    "    doc: ```parses the given List<Number> codes into a List<String> by\n",
    "         separating them by the code point for char```\n",
    "    cases (List) codes:\n",
    "      | empty => empty\n",
    "      | link(f, r) =>\n",
    "        parsed-codes    = parse-first-word-codes-from-code-points(codes)\n",
    "        parsed-string   = string-from-code-points(parsed-codes)\n",
    "        remaining-codes = remove-first-word-codes-from-code-points(codes)\n",
    "\n",
    "        link(parsed-string, parse-codes-to-string-list(remaining-codes))\n",
    "    end\n",
    "  end\n",
    "\n",
    "  parse-codes-to-string-list(string-to-code-points(document))\n",
    "where:\n",
    "  parse-document-words(\"\", \"\\n\") is [list:]\n",
    "  parse-document-words(\"test\", \"\\n\") is [list: \"test\"]\n",
    "  parse-document-words(\"dog\\ncat\", \"\\n\") is [list: \"dog\", \"cat\"]\n",
    "  parse-document-words(\"a\\nb\\nc\", \"\\n\") is [list: \"a\", \"b\", \"c\"]\n",
    "  parse-document-words(\"Do\\ncs\\nfor\\nshriram\", \"\\n\") \n",
    "    is [list: \"Do\", \"cs\", \"for\", \"shriram\"]\n",
    "end"
   ]
  },
  {
   "cell_type": "code",
   "execution_count": 5,
   "metadata": {},
   "outputs": [
    {
     "data": {
      "text/plain": [
       "\"<Unknown value: details logged to console>\""
      ]
     },
     "execution_count": 5,
     "metadata": {},
     "output_type": "execute_result"
    }
   ],
   "source": [
    "check ```popular-pairs handles some titles appearing the most across all\n",
    "      Files but that do not appear in the most frequent pairs```:\n",
    "\n",
    "  # Create files where \"TAPS0260\" appears the most individually  \n",
    "  # but not in most frequent pairs\n",
    "  c1 = file(\"custom_1.txt\", \"TAPS0260\\nJAPN0100\\nCSCI0190\\nAPMA1655\")\n",
    "  c2 = file(\"custom_2.txt\", \"JAPN0100\\nCSCI0190\\nAPMA1655\")\n",
    "  c3 = file(\"custom_3.txt\", \"TAPS0260\\nENGL0950\")\n",
    "  c4 = file(\"custom_4.txt\", \"RUSS1200\\nTAPS0260\")\n",
    "  c5 = file(\"custom_5.txt\", \"CSCI0190\\nTAPS0260\\nAPMA1655\")\n",
    "  \n",
    "  popular-pairs([list: c1, c2, c3]) \n",
    "    is recommendation(2, [list: \"CSCI0190+APMA1655\", \"JAPN0100+CSCI0190\", \"JAPN0100+APMA1655\"])\n",
    "  popular-pairs([list: c1, c2, c3, c4]) \n",
    "    is recommendation(2, [list: \"CSCI0190+APMA1655\", \"JAPN0100+CSCI0190\", \"JAPN0100+APMA1655\"])\n",
    "  popular-pairs([list: c1, c2, c3, c5]) \n",
    "    is recommendation(3, [list: \"CSCI0190+APMA1655\"])\n",
    "end"
   ]
  },
  {
   "cell_type": "code",
   "execution_count": 6,
   "metadata": {},
   "outputs": [
    {
     "data": {
      "text/plain": [
       "\"<Unknown value: details logged to console>\""
      ]
     },
     "execution_count": 6,
     "metadata": {},
     "output_type": "execute_result"
    }
   ],
   "source": [
    "c1 = file(\"custom_1.txt\", \"TAPS0260\\nJAPN0100\\nCSCI0190\\nAPMA1655\")\n",
    "c2 = file(\"custom_2.txt\", \"JAPN0100\\nCSCI0190\\nAPMA1655\")\n",
    "c3 = file(\"custom_3.txt\", \"TAPS0260\\nENGL0950\")\n",
    "c4 = file(\"custom_4.txt\", \"RUSS1200\\nTAPS0260\")\n",
    "c5 = file(\"custom_5.txt\", \"CSCI0190\\nTAPS0260\\nAPMA1655\")"
   ]
  },
  {
   "cell_type": "code",
   "execution_count": 7,
   "metadata": {},
   "outputs": [
    {
     "data": {
      "text/plain": [
       "\"<Unknown value: details logged to console>\""
      ]
     },
     "execution_count": 7,
     "metadata": {},
     "output_type": "execute_result"
    }
   ],
   "source": [
    "popular-pairs([list: c1, c2, c3, c4]) "
   ]
  },
  {
   "cell_type": "code",
   "execution_count": 8,
   "metadata": {},
   "outputs": [
    {
     "data": {
      "text/plain": [
       "4"
      ]
     },
     "execution_count": 8,
     "metadata": {},
     "output_type": "execute_result"
    }
   ],
   "source": [
    "x = 1\n",
    "x * 4"
   ]
  },
  {
   "cell_type": "code",
   "execution_count": 9,
   "metadata": {},
   "outputs": [
    {
     "data": {
      "text/plain": [
       "\"<Unknown value: details logged to console>\""
      ]
     },
     "execution_count": 9,
     "metadata": {},
     "output_type": "execute_result"
    }
   ],
   "source": [
    "y = [list: 1, 2, 3]"
   ]
  },
  {
   "cell_type": "code",
   "execution_count": 10,
   "metadata": {},
   "outputs": [
    {
     "data": {
      "text/plain": [
       "1"
      ]
     },
     "execution_count": 10,
     "metadata": {},
     "output_type": "execute_result"
    }
   ],
   "source": [
    "y.first"
   ]
  },
  {
   "cell_type": "code",
   "execution_count": 11,
   "metadata": {},
   "outputs": [
    {
     "data": {
      "text/plain": [
       "true"
      ]
     },
     "execution_count": 11,
     "metadata": {},
     "output_type": "execute_result"
    }
   ],
   "source": [
    "true"
   ]
  },
  {
   "cell_type": "code",
   "execution_count": 12,
   "metadata": {},
   "outputs": [
    {
     "data": {
      "text/plain": [
       "2"
      ]
     },
     "execution_count": 12,
     "metadata": {},
     "output_type": "execute_result"
    }
   ],
   "source": [
    "2"
   ]
  },
  {
   "cell_type": "code",
   "execution_count": 13,
   "metadata": {},
   "outputs": [
    {
     "data": {
      "text/plain": [
       "\"<Unknown value: details logged to console>\""
      ]
     },
     "execution_count": 13,
     "metadata": {},
     "output_type": "execute_result"
    }
   ],
   "source": [
    "popular-pairs"
   ]
  },
  {
   "cell_type": "code",
   "execution_count": null,
   "metadata": {
    "collapsed": true
   },
   "outputs": [],
   "source": []
  }
 ],
 "metadata": {
  "kernelspec": {
   "display_name": "Pyret",
   "language": "pyret",
   "name": "pyret"
  },
  "language_info": {
   "file_extension": ".arr",
   "mimetype": "application/pyret",
   "name": "pyret",
   "version": "9.3.0"
  }
 },
 "nbformat": 4,
 "nbformat_minor": 2
}
