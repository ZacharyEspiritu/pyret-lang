{
 "cells": [
  {
   "cell_type": "markdown",
   "metadata": {},
   "source": [
    "# Lab 6: Amortized Analysis\n",
    "\n",
    "Let's do some Pyret things!"
   ]
  },
  {
   "cell_type": "code",
   "execution_count": null,
   "metadata": {
    "scrolled": false
   },
   "outputs": [],
   "source": [
    "fun some-function(x :: String) -> String:\n",
    "  x\n",
    "end"
   ]
  },
  {
   "cell_type": "code",
   "execution_count": null,
   "metadata": {},
   "outputs": [],
   "source": [
    "some-function(\"\")"
   ]
  },
  {
   "cell_type": "markdown",
   "metadata": {},
   "source": [
    "## Activity\n",
    "\n",
    "What is the Big-O notation of `some-function`?"
   ]
  },
  {
   "cell_type": "markdown",
   "metadata": {},
   "source": [
    "Put your answer here"
   ]
  }
 ],
 "metadata": {
  "kernelspec": {
   "display_name": "Pyret",
   "language": "pyret",
   "name": "pyret"
  },
  "language_info": {
   "file_extension": ".arr",
   "mimetype": "application/pyret",
   "name": "pyret",
   "version": "9.3.0"
  }
 },
 "nbformat": 4,
 "nbformat_minor": 2
}
