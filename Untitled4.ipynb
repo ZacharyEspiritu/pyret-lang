{
 "cells": [
  {
   "cell_type": "code",
   "execution_count": null,
   "metadata": {},
   "outputs": [
    {
     "name": "stderr",
     "output_type": "stream",
     "text": [
      "Error: FailureResult((internal error rendering PyretFailException) \n",
      "<no stack trace>)"
     ]
    }
   ],
   "source": [
    "fun this-is-it(x :: String) -> Number:\n",
    "  3\n",
    "end"
   ]
  },
  {
   "cell_type": "code",
   "execution_count": 5,
   "metadata": {},
   "outputs": [
    {
     "name": "stdout",
     "output_type": "stream",
     "text": [
      "[object Object]"
     ]
    }
   ],
   "source": [
    "this-is-it(\"\")"
   ]
  },
  {
   "cell_type": "code",
   "execution_count": 6,
   "metadata": {},
   "outputs": [
    {
     "name": "stdout",
     "output_type": "stream",
     "text": [
      "[object Object]"
     ]
    }
   ],
   "source": [
    "3 + 3 "
   ]
  },
  {
   "cell_type": "code",
   "execution_count": null,
   "metadata": {
    "collapsed": true
   },
   "outputs": [],
   "source": []
  }
 ],
 "metadata": {
  "kernelspec": {
   "display_name": "Pyret",
   "language": "pyret",
   "name": "pyret"
  },
  "language_info": {
   "file_extension": ".arr",
   "mimetype": "application/pyret",
   "name": "pyret",
   "version": "9.3.0"
  }
 },
 "nbformat": 4,
 "nbformat_minor": 2
}
