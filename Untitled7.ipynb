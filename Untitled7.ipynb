{
 "cells": [
  {
   "cell_type": "code",
   "execution_count": null,
   "metadata": {
    "collapsed": true
   },
   "outputs": [],
   "source": [
    "1 + 1"
   ]
  },
  {
   "cell_type": "code",
   "execution_count": null,
   "metadata": {
    "collapsed": true
   },
   "outputs": [],
   "source": []
  }
 ],
 "metadata": {
  "kernelspec": {
   "display_name": "Pyret",
   "language": "pyret",
   "name": "pyret"
  },
  "language_info": {
   "file_extension": ".arr",
   "mimetype": "application/pyret",
   "name": "pyret",
   "version": "9.3.0"
  }
 },
 "nbformat": 4,
 "nbformat_minor": 2
}
